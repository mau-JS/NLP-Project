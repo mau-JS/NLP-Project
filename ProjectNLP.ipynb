{
 "cells": [
  {
   "cell_type": "code",
   "execution_count": 14,
   "metadata": {},
   "outputs": [
    {
     "name": "stderr",
     "output_type": "stream",
     "text": [
      "[nltk_data] Downloading package punkt to\n",
      "[nltk_data]     C:\\Users\\icono\\AppData\\Roaming\\nltk_data...\n",
      "[nltk_data]   Package punkt is already up-to-date!\n"
     ]
    },
    {
     "data": {
      "text/plain": [
       "True"
      ]
     },
     "execution_count": 14,
     "metadata": {},
     "output_type": "execute_result"
    }
   ],
   "source": [
    "import pandas as pd\n",
    "import numpy as np\n",
    "import seaborn as sns\n",
    "import matplotlib.pyplot as plt\n",
    "import nltk\n",
    "nltk.download('punkt')"
   ]
  },
  {
   "cell_type": "markdown",
   "metadata": {},
   "source": [
    "### TASKS"
   ]
  },
  {
   "cell_type": "markdown",
   "metadata": {},
   "source": [
    "#### 2.1 Corpus Creation"
   ]
  },
  {
   "cell_type": "code",
   "execution_count": 15,
   "metadata": {},
   "outputs": [],
   "source": [
    "# Import the necessary library\n",
    "from nltk.corpus import PlaintextCorpusReader\n",
    "\n",
    "# Create a NLTK corpus from this text file\n",
    "corpus = PlaintextCorpusReader('.', 'toyStory1.csv')"
   ]
  },
  {
   "cell_type": "code",
   "execution_count": 16,
   "metadata": {},
   "outputs": [
    {
     "name": "stdout",
     "output_type": "stream",
     "text": [
      "['1', 'Transcript', ':', '1.1', '01', 'Sheriff', 'Woody', '1.2', '02', 'Opening', 'Credits', '(', '``', \"''\", 'You', \"'ve\", 'Got', 'a', 'Friend', 'in', 'Me', \"''\", \"''\", ')', '1.3', '03', 'The', 'Coast', 'Is', 'Clear', '1.4', '04', 'The', 'Staff', 'Meeting', '1.5', '05', 'Recon', 'Plan', 'Charlie', '1.6', '06', 'Buzz', 'Lightyear', ',', 'Space', 'Ranger', '1.7', '07', '``', \"''\", 'Strange', 'Things', \"''\", \"''\", '1.8', '08', 'Woody', 'Vs.', 'Buzz', '1.9', '09', 'Sid', '1.10', '10', 'Who', 'Will', 'Andy', 'Pick', '?', '1.11', '11', 'Buzz', 'Hitches', 'a', 'Ride', '1.12', '12', 'Lost', 'at', 'the', 'Gas', 'Station', '1.13', '13', 'Pizza', 'Planet', '1.14', '14', 'Sid', \"'s\", 'House', '1.15', '15', 'Back', 'at', \"Andy's\", '1.16', '16', 'Playtime']\n"
     ]
    }
   ],
   "source": [
    "#Applying tokenization\n",
    "raw_text = corpus.raw()\n",
    "tokens = nltk.word_tokenize(raw_text)\n",
    "print(tokens[:100])"
   ]
  }
 ],
 "metadata": {
  "kernelspec": {
   "display_name": "Python 3",
   "language": "python",
   "name": "python3"
  },
  "language_info": {
   "codemirror_mode": {
    "name": "ipython",
    "version": 3
   },
   "file_extension": ".py",
   "mimetype": "text/x-python",
   "name": "python",
   "nbconvert_exporter": "python",
   "pygments_lexer": "ipython3",
   "version": "3.11.6"
  }
 },
 "nbformat": 4,
 "nbformat_minor": 2
}
